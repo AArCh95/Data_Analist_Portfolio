{
 "cells": [
  {
   "cell_type": "markdown",
   "metadata": {
    "id": "aFu3ohRS7AqS"
   },
   "source": [
    "### Binomial Logistic Regression Model  \n",
    "\n",
    "In this project, I built and evaluated a **binomial logistic regression model** using Python. This type of model is useful for predicting **binary outcomes**, making it a key tool in classification problems.  \n",
    "\n",
    "Before starting the analysis, I imported the necessary libraries:  \n",
    "- **pandas** for data manipulation  \n",
    "- **scikit-learn** for model building and evaluation  \n",
    "- **seaborn** for visualization  \n",
    "\n",
    "As the project progressed, I followed step-by-step instructions to install and use any required libraries. This project highlights my ability to implement logistic regression and assess its performance.  "
   ]
  },
  {
   "cell_type": "code",
   "execution_count": 1,
   "metadata": {
    "id": "ku7DYiI4TJfe"
   },
   "outputs": [],
   "source": [
    "# Import pandas and seaborn packages\n",
    "import pandas as pd\n",
    "import seaborn as sns"
   ]
  },
  {
   "cell_type": "markdown",
   "metadata": {
    "id": "_XJ0dXPrTZt7"
   },
   "source": [
    "## Exploratory data analysis "
   ]
  },
  {
   "cell_type": "code",
   "execution_count": 2,
   "metadata": {
    "id": "szENw9kUTFu5"
   },
   "outputs": [],
   "source": [
    "# Load in if csv file is in the same folder as notebook\n",
    "activity = pd.read_csv(\"activity.csv\")"
   ]
  },
  {
   "cell_type": "code",
   "execution_count": 3,
   "metadata": {
    "colab": {
     "base_uri": "https://localhost:8080/",
     "height": 300
    },
    "executionInfo": {
     "elapsed": 149,
     "status": "ok",
     "timestamp": 1660312975159,
     "user": {
      "displayName": "Rebecca Weng",
      "userId": "08002348150894593460"
     },
     "user_tz": 240
    },
    "id": "SnbYODnCTi8K",
    "outputId": "93858599-4fd2-4107-d7cd-083eba7daddb"
   },
   "outputs": [
    {
     "data": {
      "text/html": [
       "<div>\n",
       "<style scoped>\n",
       "    .dataframe tbody tr th:only-of-type {\n",
       "        vertical-align: middle;\n",
       "    }\n",
       "\n",
       "    .dataframe tbody tr th {\n",
       "        vertical-align: top;\n",
       "    }\n",
       "\n",
       "    .dataframe thead th {\n",
       "        text-align: right;\n",
       "    }\n",
       "</style>\n",
       "<table border=\"1\" class=\"dataframe\">\n",
       "  <thead>\n",
       "    <tr style=\"text-align: right;\">\n",
       "      <th></th>\n",
       "      <th>Acc (vertical)</th>\n",
       "      <th>LyingDown</th>\n",
       "    </tr>\n",
       "  </thead>\n",
       "  <tbody>\n",
       "    <tr>\n",
       "      <th>count</th>\n",
       "      <td>494.000000</td>\n",
       "      <td>494.000000</td>\n",
       "    </tr>\n",
       "    <tr>\n",
       "      <th>mean</th>\n",
       "      <td>45.512363</td>\n",
       "      <td>0.516194</td>\n",
       "    </tr>\n",
       "    <tr>\n",
       "      <th>std</th>\n",
       "      <td>44.799360</td>\n",
       "      <td>0.500244</td>\n",
       "    </tr>\n",
       "    <tr>\n",
       "      <th>min</th>\n",
       "      <td>-48.459000</td>\n",
       "      <td>0.000000</td>\n",
       "    </tr>\n",
       "    <tr>\n",
       "      <th>25%</th>\n",
       "      <td>0.918650</td>\n",
       "      <td>0.000000</td>\n",
       "    </tr>\n",
       "    <tr>\n",
       "      <th>50%</th>\n",
       "      <td>41.109500</td>\n",
       "      <td>1.000000</td>\n",
       "    </tr>\n",
       "    <tr>\n",
       "      <th>75%</th>\n",
       "      <td>89.339000</td>\n",
       "      <td>1.000000</td>\n",
       "    </tr>\n",
       "    <tr>\n",
       "      <th>max</th>\n",
       "      <td>112.310000</td>\n",
       "      <td>1.000000</td>\n",
       "    </tr>\n",
       "  </tbody>\n",
       "</table>\n",
       "</div>"
      ],
      "text/plain": [
       "       Acc (vertical)   LyingDown\n",
       "count      494.000000  494.000000\n",
       "mean        45.512363    0.516194\n",
       "std         44.799360    0.500244\n",
       "min        -48.459000    0.000000\n",
       "25%          0.918650    0.000000\n",
       "50%         41.109500    1.000000\n",
       "75%         89.339000    1.000000\n",
       "max        112.310000    1.000000"
      ]
     },
     "execution_count": 3,
     "metadata": {},
     "output_type": "execute_result"
    }
   ],
   "source": [
    "# Get summary statistics about the dataset\n",
    "activity.describe()"
   ]
  },
  {
   "cell_type": "code",
   "execution_count": 4,
   "metadata": {
    "colab": {
     "base_uri": "https://localhost:8080/",
     "height": 206
    },
    "executionInfo": {
     "elapsed": 14,
     "status": "ok",
     "timestamp": 1660312981736,
     "user": {
      "displayName": "Rebecca Weng",
      "userId": "08002348150894593460"
     },
     "user_tz": 240
    },
    "id": "G0bqgWQWTnUp",
    "outputId": "6a2bc422-97c6-4634-fc1c-c4aa12c57c78"
   },
   "outputs": [
    {
     "data": {
      "text/html": [
       "<div>\n",
       "<style scoped>\n",
       "    .dataframe tbody tr th:only-of-type {\n",
       "        vertical-align: middle;\n",
       "    }\n",
       "\n",
       "    .dataframe tbody tr th {\n",
       "        vertical-align: top;\n",
       "    }\n",
       "\n",
       "    .dataframe thead th {\n",
       "        text-align: right;\n",
       "    }\n",
       "</style>\n",
       "<table border=\"1\" class=\"dataframe\">\n",
       "  <thead>\n",
       "    <tr style=\"text-align: right;\">\n",
       "      <th></th>\n",
       "      <th>Acc (vertical)</th>\n",
       "      <th>LyingDown</th>\n",
       "    </tr>\n",
       "  </thead>\n",
       "  <tbody>\n",
       "    <tr>\n",
       "      <th>0</th>\n",
       "      <td>96.229</td>\n",
       "      <td>0</td>\n",
       "    </tr>\n",
       "    <tr>\n",
       "      <th>1</th>\n",
       "      <td>84.746</td>\n",
       "      <td>0</td>\n",
       "    </tr>\n",
       "    <tr>\n",
       "      <th>2</th>\n",
       "      <td>82.449</td>\n",
       "      <td>0</td>\n",
       "    </tr>\n",
       "    <tr>\n",
       "      <th>3</th>\n",
       "      <td>106.560</td>\n",
       "      <td>0</td>\n",
       "    </tr>\n",
       "    <tr>\n",
       "      <th>4</th>\n",
       "      <td>80.152</td>\n",
       "      <td>0</td>\n",
       "    </tr>\n",
       "  </tbody>\n",
       "</table>\n",
       "</div>"
      ],
      "text/plain": [
       "   Acc (vertical)  LyingDown\n",
       "0          96.229          0\n",
       "1          84.746          0\n",
       "2          82.449          0\n",
       "3         106.560          0\n",
       "4          80.152          0"
      ]
     },
     "execution_count": 4,
     "metadata": {},
     "output_type": "execute_result"
    }
   ],
   "source": [
    "# Examine the dataset\n",
    "activity.head()"
   ]
  },
  {
   "cell_type": "markdown",
   "metadata": {
    "id": "DhQOZeiaT22w"
   },
   "source": [
    "## Construct binomial logistic regression model"
   ]
  },
  {
   "cell_type": "markdown",
   "metadata": {
    "id": "vm5-H84dZbon"
   },
   "source": [
    "For **binomial logistic regression**, I used the `scikit-learn` package, which is widely used for **machine learning** and **data science** applications.  \n",
    "\n",
    "For this exercise, I specifically imported:  \n",
    "- **`train_test_split()`** – to split the dataset into training and testing sets.  \n",
    "- **`LogisticRegression()`** – to build and train the logistic regression model.  \n",
    "\n",
    "These functions provided the foundation for creating and evaluating the classification model efficiently.  "
   ]
  },
  {
   "cell_type": "code",
   "execution_count": 5,
   "metadata": {
    "id": "U35tLg4rT0wJ"
   },
   "outputs": [],
   "source": [
    "# Load in sci-kit learn functions for constructing logistic regression\n",
    "from sklearn.model_selection import train_test_split\n",
    "from sklearn.linear_model import LogisticRegression"
   ]
  },
  {
   "cell_type": "markdown",
   "metadata": {
    "id": "Pt6gCjCxZxIr"
   },
   "source": [
    "Next, I assigned the data to variables **`X`** and **`y`** to prepare it for model training.  \n",
    "\n",
    "- **`X`**: Contains the predictor variables (features).  \n",
    "- **`y`**: Contains the target variable (the binary outcome).  \n",
    "\n",
    "To make it easier to use the **`train_test_split()`** function, I subset specific columns from the DataFrame using **double square brackets** (`[[]]`), listing the required columns inside. This step ensures the dataset is properly structured for training and evaluation.  "
   ]
  },
  {
   "cell_type": "code",
   "execution_count": 6,
   "metadata": {
    "id": "J6gEcI3nVEdA"
   },
   "outputs": [],
   "source": [
    "# Save X and y data into variables\n",
    "X = activity[[\"Acc (vertical)\"]]\n",
    "y = activity[[\"LyingDown\"]]"
   ]
  },
  {
   "cell_type": "markdown",
   "metadata": {
    "id": "XFjASWrkZ22w"
   },
   "source": [
    "Next, I **split the data** into **training and holdout datasets** using `train_test_split()`.  \n",
    "\n",
    "- **`test_size=0.3`**: Allocates **30%** of the data for testing.  \n",
    "- **`random_state=42`**: Ensures reproducibility—changing this value would result in different splits.  \n",
    "\n",
    "This step is crucial for evaluating the model's performance on unseen data while maintaining consistency in results.  "
   ]
  },
  {
   "cell_type": "code",
   "execution_count": 7,
   "metadata": {
    "id": "8QtbIfy2VNql"
   },
   "outputs": [],
   "source": [
    "# Split dataset into training and holdout datasets\n",
    "X_train, X_test, y_train, y_test = train_test_split(X,y, test_size=0.3, random_state=42)"
   ]
  },
  {
   "cell_type": "markdown",
   "metadata": {
    "id": "q9Y_Q6KFaLDb"
   },
   "source": [
    "Next, I built the **logistic regression classifier** and trained it using the **`.fit()`** function.  \n",
    "\n",
    "- Created an instance of `LogisticRegression()`.  \n",
    "- Used **`.fit(X_train, y_train)`** to train the model on the training data.  \n",
    "- Saved the fitted model as **`clf`** for further evaluation.  \n",
    "\n",
    "This step allows the model to learn patterns in the data and make predictions on new inputs."
   ]
  },
  {
   "cell_type": "code",
   "execution_count": 8,
   "metadata": {
    "colab": {
     "base_uri": "https://localhost:8080/"
    },
    "executionInfo": {
     "elapsed": 131,
     "status": "ok",
     "timestamp": 1660315959140,
     "user": {
      "displayName": "Rebecca Weng",
      "userId": "08002348150894593460"
     },
     "user_tz": 240
    },
    "id": "l3Rv5aTmVPSK",
    "outputId": "94aa4671-0899-4e43-fbdb-05e19a7e02d9"
   },
   "outputs": [
    {
     "name": "stderr",
     "output_type": "stream",
     "text": [
      "C:\\Users\\Aarón\\AppData\\Local\\Packages\\PythonSoftwareFoundation.Python.3.12_qbz5n2kfra8p0\\LocalCache\\local-packages\\Python312\\site-packages\\sklearn\\utils\\validation.py:1408: DataConversionWarning: A column-vector y was passed when a 1d array was expected. Please change the shape of y to (n_samples, ), for example using ravel().\n",
      "  y = column_or_1d(y, warn=True)\n"
     ]
    }
   ],
   "source": [
    "clf = LogisticRegression().fit(X_train,y_train)"
   ]
  },
  {
   "cell_type": "markdown",
   "metadata": {
    "id": "PnUMpj--fFOu"
   },
   "source": [
    "## Get coefficients and visualize model"
   ]
  },
  {
   "cell_type": "markdown",
   "metadata": {
    "id": "sKauz4Kzfmo-"
   },
   "source": [
    "Next, I extracted the **coefficient** and **intercept** of the trained logistic regression model using the **`coef_`** and **`intercept_`** attributes of the `clf` object.  \n",
    "\n",
    "- **`clf.coef_`**: Returns the learned coefficients for each feature.  \n",
    "- **`clf.intercept_`**: Returns the intercept of the model.  \n",
    "\n",
    "These values help interpret how each feature contributes to the model's predictions."
   ]
  },
  {
   "cell_type": "code",
   "execution_count": 9,
   "metadata": {
    "colab": {
     "base_uri": "https://localhost:8080/"
    },
    "executionInfo": {
     "elapsed": 212,
     "status": "ok",
     "timestamp": 1649713682019,
     "user": {
      "displayName": "Juan Delgado",
      "userId": "16851183442870430714"
     },
     "user_tz": 420
    },
    "id": "EYfPtlrQVZu6",
    "outputId": "51d89495-fbbd-42ca-a589-025134a2aa37"
   },
   "outputs": [
    {
     "data": {
      "text/plain": [
       "array([[-0.1177471]])"
      ]
     },
     "execution_count": 9,
     "metadata": {},
     "output_type": "execute_result"
    }
   ],
   "source": [
    "# Print the coefficient\n",
    "clf.coef_"
   ]
  },
  {
   "cell_type": "code",
   "execution_count": 10,
   "metadata": {
    "colab": {
     "base_uri": "https://localhost:8080/"
    },
    "executionInfo": {
     "elapsed": 7,
     "status": "ok",
     "timestamp": 1649713682019,
     "user": {
      "displayName": "Juan Delgado",
      "userId": "16851183442870430714"
     },
     "user_tz": 420
    },
    "id": "FSpqvdK4VbHl",
    "outputId": "b7d6ee76-8414-4cd1-e76a-3889915ef14e"
   },
   "outputs": [
    {
     "data": {
      "text/plain": [
       "array([6.10180958])"
      ]
     },
     "execution_count": 10,
     "metadata": {},
     "output_type": "execute_result"
    }
   ],
   "source": [
    "# Print the intercept\n",
    "clf.intercept_"
   ]
  },
  {
   "cell_type": "markdown",
   "metadata": {
    "id": "35pK54dfp_OA"
   },
   "source": [
    "Based on the model's results:  \n",
    "\n",
    "- **Intercept** (**β₀**) = **6.10**  \n",
    "- **Coefficient** (**β₁**) = **-0.12**  \n",
    "\n",
    "To visualize the model, I used **`seaborn.regplot()`** to plot the data along with a **95% confidence band**. Since this is a **logistic regression model**, I set **`logistic=True`** to ensure the function applies the correct transformation instead of treating it as a linear regression.  \n",
    "\n",
    "This visualization helps illustrate how the model predicts the probability of the target variable based on the input features."
   ]
  },
  {
   "cell_type": "code",
   "execution_count": 11,
   "metadata": {
    "colab": {
     "base_uri": "https://localhost:8080/",
     "height": 386
    },
    "executionInfo": {
     "elapsed": 11047,
     "status": "ok",
     "timestamp": 1649713693063,
     "user": {
      "displayName": "Juan Delgado",
      "userId": "16851183442870430714"
     },
     "user_tz": 420
    },
    "id": "CvXw7hN_VpTZ",
    "outputId": "db97cd3d-ef1b-44b1-8c90-a79aa3ac1b55"
   },
   "outputs": [
    {
     "data": {
      "text/plain": [
       "<Axes: xlabel='Acc (vertical)', ylabel='LyingDown'>"
      ]
     },
     "execution_count": 11,
     "metadata": {},
     "output_type": "execute_result"
    },
    {
     "data": {
      "image/png": "[encoded data removed]",
      "text/plain": [
       "<Figure size 640x480 with 1 Axes>"
      ]
     },
     "metadata": {},
     "output_type": "display_data"
    }
   ],
   "source": [
    "# Plot the logistic regression and its confidence band\n",
    "sns.regplot(x=\"Acc (vertical)\", y=\"LyingDown\", data=activity, logistic=True)"
   ]
  },
  {
   "cell_type": "markdown",
   "metadata": {
    "id": "0_Ruha3DV4PO"
   },
   "source": [
    "# Confusion matrix"
   ]
  },
  {
   "cell_type": "markdown",
   "metadata": {
    "id": "M2gju1B8gmSi"
   },
   "source": [
    "### Evaluating the Model with a Confusion Matrix  \n",
    "\n",
    "This section focuses on **confusion matrices**, a key tool for evaluating **classification models**, including **binomial logistic regression**.  \n",
    "\n",
    "The confusion matrix provides insights into the model’s performance by showing the number of:  \n",
    "- **True Positives (TP)** – Correct positive predictions  \n",
    "- **True Negatives (TN)** – Correct negative predictions  \n",
    "- **False Positives (FP)** – Incorrect positive predictions  \n",
    "- **False Negatives (FN)** – Incorrect negative predictions  \n",
    "\n",
    "**Note:** This analysis assumes that all previous code has been executed, and necessary **variables and packages** are already loaded."
   ]
  },
  {
   "cell_type": "markdown",
   "metadata": {
    "id": "5RuQLzv6WaqZ"
   },
   "source": [
    "## Construct logistic regression model"
   ]
  },
  {
   "cell_type": "markdown",
   "metadata": {
    "id": "4Lx_Lt68hWBs"
   },
   "source": [
    "Once again, I **split the data** (`X` and `y`) into **training and holdout datasets** using the `train_test_split()` function, which was previously imported from `scikit-learn`.  \n",
    "\n",
    "Then, I:  \n",
    "- **Built the logistic regression model** using `LogisticRegression()` and trained it with `.fit()`.  \n",
    "- **Made predictions** on the holdout sample (`X_test`) using the `.predict()` function.  \n",
    "\n",
    "This step allows me to compare the model's predictions against actual values to assess its performance."
   ]
  },
  {
   "cell_type": "code",
   "execution_count": 12,
   "metadata": {
    "colab": {
     "base_uri": "https://localhost:8080/"
    },
    "executionInfo": {
     "elapsed": 138,
     "status": "ok",
     "timestamp": 1660316061854,
     "user": {
      "displayName": "Rebecca Weng",
      "userId": "08002348150894593460"
     },
     "user_tz": 240
    },
    "id": "ZVDOckUsV5Zh",
    "outputId": "5bee8075-c21b-482d-abea-2f26789cc557"
   },
   "outputs": [
    {
     "name": "stderr",
     "output_type": "stream",
     "text": [
      "C:\\Users\\Aarón\\AppData\\Local\\Packages\\PythonSoftwareFoundation.Python.3.12_qbz5n2kfra8p0\\LocalCache\\local-packages\\Python312\\site-packages\\sklearn\\utils\\validation.py:1408: DataConversionWarning: A column-vector y was passed when a 1d array was expected. Please change the shape of y to (n_samples, ), for example using ravel().\n",
      "  y = column_or_1d(y, warn=True)\n"
     ]
    }
   ],
   "source": [
    "# Split data into training and holdout samples\n",
    "X_train, X_test, y_train, y_test = train_test_split(X, y, test_size=0.3, random_state=42)\n",
    "\n",
    "# Build regression model\n",
    "clf = LogisticRegression().fit(X_train,y_train)\n",
    "\n",
    "# Save predictions\n",
    "y_pred = clf.predict(X_test)"
   ]
  },
  {
   "cell_type": "markdown",
   "metadata": {
    "id": "7JCH5pd7hw40"
   },
   "source": [
    "To view the model's predictions, I printed the output of **`clf.predict(X_test)`**.  \n",
    "\n",
    "- **`0`** → Represents \"not lying down\"  \n",
    "- **`1`** → Represents \"lying down\"  \n",
    "\n",
    "This step helps verify the classification results and ensures the model correctly predicts the binary outcomes."
   ]
  },
  {
   "cell_type": "code",
   "execution_count": 13,
   "metadata": {
    "colab": {
     "base_uri": "https://localhost:8080/"
    },
    "executionInfo": {
     "elapsed": 157,
     "status": "ok",
     "timestamp": 1660316063049,
     "user": {
      "displayName": "Rebecca Weng",
      "userId": "08002348150894593460"
     },
     "user_tz": 240
    },
    "id": "sm8fa5eXV9yo",
    "outputId": "e76692e9-29fb-4295-e753-5b06bbfccc2e"
   },
   "outputs": [
    {
     "data": {
      "text/plain": [
       "array([0, 1, 0, 0, 1, 0, 0, 1, 1, 0, 1, 0, 0, 1, 1, 0, 0, 0, 1, 1, 0, 1,\n",
       "       1, 0, 1, 0, 1, 1, 0, 1, 0, 0, 1, 0, 1, 0, 1, 1, 1, 1, 0, 1, 0, 1,\n",
       "       0, 0, 0, 0, 0, 0, 1, 0, 0, 1, 0, 1, 0, 1, 0, 1, 0, 0, 0, 1, 0, 0,\n",
       "       1, 1, 0, 0, 1, 0, 0, 0, 0, 0, 1, 1, 0, 0, 0, 1, 1, 0, 1, 0, 1, 1,\n",
       "       1, 0, 1, 0, 1, 1, 1, 1, 1, 0, 1, 1, 0, 0, 1, 1, 1, 1, 1, 1, 1, 0,\n",
       "       0, 0, 1, 0, 1, 1, 0, 1, 1, 1, 1, 1, 1, 0, 1, 1, 0, 1, 1, 0, 1, 0,\n",
       "       0, 1, 0, 0, 1, 1, 0, 1, 0, 1, 0, 0, 1, 0, 1, 1, 1])"
      ]
     },
     "execution_count": 13,
     "metadata": {},
     "output_type": "execute_result"
    }
   ],
   "source": [
    "# Print out the predicted labels\n",
    "clf.predict(X_test)"
   ]
  },
  {
   "cell_type": "markdown",
   "metadata": {
    "id": "2ErWdThvh4Ea"
   },
   "source": [
    "However, instead of directly predicting labels, the model **calculates probabilities** that a given value of **X** corresponds to the person **lying down**.  \n",
    "\n",
    "To view these probabilities, I printed the output of **`clf.predict_proba(X_test)`**, which returns the probability for each class.  "
   ]
  },
  {
   "cell_type": "code",
   "execution_count": 15,
   "metadata": {
    "colab": {
     "base_uri": "https://localhost:8080/"
    },
    "executionInfo": {
     "elapsed": 209,
     "status": "ok",
     "timestamp": 1660316066497,
     "user": {
      "displayName": "Rebecca Weng",
      "userId": "08002348150894593460"
     },
     "user_tz": 240
    },
    "id": "mAF_vjFKWPlU",
    "outputId": "a23d4d69-8203-435a-a9a1-439b774c453c"
   },
   "outputs": [
    {
     "data": {
      "text/plain": [
       "array([2.31690858e-02, 9.97511643e-01, 1.04280601e-02, 1.05669826e-03,\n",
       "       9.99781265e-01, 1.04280601e-02, 4.66008916e-03, 9.95733982e-01,\n",
       "       9.72344491e-01, 2.31690858e-02, 9.97825656e-01, 1.36210414e-02,\n",
       "       3.43613958e-02, 9.95733982e-01, 9.98892897e-01, 5.75926041e-02,\n",
       "       4.77299711e-01, 6.09785081e-03, 9.98732818e-01, 9.92695803e-01,\n",
       "       3.91400562e-02, 9.31713690e-01, 9.64064069e-01, 1.55636152e-02,\n",
       "       9.83708684e-01, 1.19193813e-02, 7.55109695e-01, 8.74058541e-01,\n",
       "       3.43613958e-02, 9.91646480e-01, 1.77761812e-02, 1.19193813e-02,\n",
       "       9.97152398e-01, 2.64338338e-02, 9.98892897e-01, 1.19193813e-02,\n",
       "       9.31713690e-01, 9.95119380e-01, 9.00936838e-01, 9.22595259e-01,\n",
       "       8.39842140e-02, 9.99624404e-01, 1.19193813e-02, 8.01630725e-01,\n",
       "       5.33097419e-03, 1.36210414e-02, 3.01444198e-02, 3.55969345e-03,\n",
       "       4.07280935e-03, 1.19193813e-02, 9.98892897e-01, 6.53832873e-02,\n",
       "       4.07280935e-03, 9.98892897e-01, 9.12054235e-03, 9.53423143e-01,\n",
       "       1.20973962e-03, 9.89081697e-01, 6.53832873e-02, 9.99950566e-01,\n",
       "       3.55969345e-03, 4.66008916e-03, 9.49851253e-02, 9.99713352e-01,\n",
       "       6.09785081e-03, 2.71874584e-03, 9.98732818e-01, 9.92695803e-01,\n",
       "       2.02968065e-02, 4.66008916e-03, 9.92695803e-01, 4.66008916e-03,\n",
       "       3.55969345e-03, 8.06204052e-04, 1.77761812e-02, 5.75926041e-02,\n",
       "       9.83708684e-01, 9.98732818e-01, 5.75926041e-02, 2.12858586e-01,\n",
       "       1.55636152e-02, 9.78756513e-01, 9.98339996e-01, 1.07258294e-01,\n",
       "       9.53423143e-01, 6.97508694e-03, 9.97511643e-01, 9.99261787e-01,\n",
       "       9.99671877e-01, 1.04280601e-02, 9.96271480e-01, 1.55636152e-02,\n",
       "       9.98339996e-01, 9.98892897e-01, 9.87521150e-01, 9.31713690e-01,\n",
       "       9.47038843e-01, 2.64338338e-02, 7.55109695e-01, 9.99570014e-01,\n",
       "       4.66008916e-03, 3.91400562e-02, 8.22253653e-01, 9.99155002e-01,\n",
       "       9.39834669e-01, 9.39834669e-01, 9.98549627e-01, 9.85739116e-01,\n",
       "       9.93613492e-01, 9.12054235e-03, 6.97508694e-03, 1.19193813e-02,\n",
       "       9.99713352e-01, 6.97508694e-03, 9.99671877e-01, 9.95733982e-01,\n",
       "       4.45526259e-02, 9.59075718e-01, 9.99935214e-01, 9.99570014e-01,\n",
       "       8.01630725e-01, 9.81394622e-01, 5.44780060e-01, 1.36210414e-02,\n",
       "       9.97825656e-01, 9.93613492e-01, 1.36210414e-02, 9.99781265e-01,\n",
       "       9.99155002e-01, 3.43613958e-02, 9.68464373e-01, 6.97508694e-03,\n",
       "       1.55636152e-02, 9.75756366e-01, 2.02968065e-02, 5.75926041e-02,\n",
       "       9.92695803e-01, 9.47038843e-01, 1.04280601e-02, 9.99355124e-01,\n",
       "       1.36210414e-02, 9.87521150e-01, 2.02968065e-02, 7.41449201e-02,\n",
       "       9.85739116e-01, 2.37525758e-03, 9.78756513e-01, 9.98732818e-01,\n",
       "       9.97511643e-01])"
      ]
     },
     "execution_count": 15,
     "metadata": {},
     "output_type": "execute_result"
    }
   ],
   "source": [
    "# Print out the predicted probabilities\n",
    "clf.predict_proba(X_test)[::,-1]"
   ]
  },
  {
   "cell_type": "markdown",
   "metadata": {
    "id": "CbBcvfOrWg5P"
   },
   "source": [
    "## Create confusion matrix\n",
    "\n"
   ]
  },
  {
   "cell_type": "markdown",
   "metadata": {
    "id": "6t3-mGl6iOy_"
   },
   "source": [
    "### Creating a Confusion Matrix  \n",
    "\n",
    "To evaluate the model’s classification accuracy, I created a **confusion matrix**, which visually represents how well the classifier predicts categorical labels.  \n",
    "\n",
    "For this, I used the [`confusion_matrix()`](https://scikit-learn.org/stable/modules/generated/sklearn.metrics.confusion_matrix.html) function from `scikit-learn.metrics`, which requires:  \n",
    "- **`y_test`** → The actual labels of the holdout sample.  \n",
    "- **`y_pred`** → The predicted labels of the holdout sample.  \n",
    "- **`clf.classes_`** → The class labels (0 and 1 in this case, since it’s a binomial logistic regression).  \n",
    "\n",
    "Since this is a **binary classification problem**, the confusion matrix only contains two labels:  \n",
    "- **0** (not lying down)  \n",
    "- **1** (lying down)  \n",
    "\n",
    "This matrix provides insights into the model’s **true positives, true negatives, false positives, and false negatives**, helping assess its overall performance.  "
   ]
  },
  {
   "cell_type": "code",
   "execution_count": 16,
   "metadata": {
    "id": "ae1-P7RoWRUg"
   },
   "outputs": [],
   "source": [
    "# Import the metrics module from scikit-learn\n",
    "import sklearn.metrics as metrics"
   ]
  },
  {
   "cell_type": "code",
   "execution_count": 17,
   "metadata": {
    "id": "eeDOYJiPWoon"
   },
   "outputs": [],
   "source": [
    "# Calculate the values for each quadrant in the confusion matrix\n",
    "cm = metrics.confusion_matrix(y_test, y_pred, labels = clf.classes_)"
   ]
  },
  {
   "cell_type": "code",
   "execution_count": 18,
   "metadata": {
    "id": "Q4lyzC1lWqam"
   },
   "outputs": [],
   "source": [
    "# Create the confusion matrix as a visualization\n",
    "disp = metrics.ConfusionMatrixDisplay(confusion_matrix = cm,display_labels = clf.classes_)"
   ]
  },
  {
   "cell_type": "markdown",
   "metadata": {
    "id": "nNhGHaC3kAYZ"
   },
   "source": [
    "### Understanding the Confusion Matrix  \n",
    "\n",
    "To interpret the confusion matrix, it's important to understand the meaning of each quadrant:  \n",
    "\n",
    "- **Upper-left (True Negatives - TN)**: Correctly predicted **not lying down**.  \n",
    "- **Bottom-left (False Negatives - FN)**: Incorrectly predicted **not lying down** when the person **was** lying down.  \n",
    "- **Upper-right (False Positives - FP)**: Incorrectly predicted **lying down** when the person **was not**.  \n",
    "- **Bottom-right (True Positives - TP)**: Correctly predicted **lying down**.  \n",
    "\n",
    "#### In this context:  \n",
    "- **True Negatives (TN)** → The model correctly predicted that a person was **not lying down**.  \n",
    "- **False Negatives (FN)** → The model incorrectly predicted that a lying person was **not lying down**.  \n",
    "- **False Positives (FP)** → The model incorrectly predicted that a person was **lying down** when they were not.  \n",
    "- **True Positives (TP)** → The model correctly predicted that a person was **lying down**.  \n",
    "\n",
    "A **perfect model** would have only **true positives and true negatives**, with **zero false positives or false negatives**. This confusion matrix helps evaluate the model’s classification accuracy and areas for improvement."
   ]
  },
  {
   "cell_type": "code",
   "execution_count": 19,
   "metadata": {
    "colab": {
     "base_uri": "https://localhost:8080/",
     "height": 297
    },
    "executionInfo": {
     "elapsed": 899,
     "status": "ok",
     "timestamp": 1660316134878,
     "user": {
      "displayName": "Rebecca Weng",
      "userId": "08002348150894593460"
     },
     "user_tz": 240
    },
    "id": "ir21gQNgWvG_",
    "outputId": "ebfc6f88-42e3-43dc-d4a7-3a10bb9c2556"
   },
   "outputs": [
    {
     "data": {
      "text/plain": [
       "<sklearn.metrics._plot.confusion_matrix.ConfusionMatrixDisplay at 0x138a9e27440>"
      ]
     },
     "execution_count": 19,
     "metadata": {},
     "output_type": "execute_result"
    },
    {
     "data": {
      "image/png": "[encoded data removed]",
      "text/plain": [
       "<Figure size 640x480 with 2 Axes>"
      ]
     },
     "metadata": {},
     "output_type": "display_data"
    }
   ],
   "source": [
    "# Display the confusion matrix\n",
    "disp.plot()"
   ]
  },
  {
   "cell_type": "markdown",
   "metadata": {
    "id": "4gPq6bvR9C8x"
   },
   "source": [
    "### Closing Thoughts  \n",
    "\n",
    "This project demonstrated how to **build, evaluate, and interpret** a **binomial logistic regression model** using Python. By splitting the dataset, training the model, and making predictions, I applied key classification techniques to analyze a binary outcome.  \n",
    "\n",
    "The **confusion matrix** provided valuable insights into the model’s accuracy, showing the balance between **true positives, true negatives, false positives, and false negatives**. While a perfect model would have no misclassifications, this evaluation highlights areas for potential improvement, such as adjusting thresholds or feature selection.  \n",
    "\n",
    "Overall, this project showcases my ability to implement **logistic regression**, interpret model outputs, and assess classification performance—key skills for data analysis and machine learning.  "
   ]
  }
 ],
 "metadata": {
  "colab": {
   "provenance": [
    {
     "file_id": "1vEN8XK55WoroYhsABd6ZEtj0Q8qmDSuR",
     "timestamp": 1664216111974
    },
    {
     "file_id": "177TsWXl_cY54HcC2o50r0l6HQSEzezH1",
     "timestamp": 1660316667116
    },
    {
     "file_id": "1xL6yI27HIg16c-tY9Kkahbkbt23h3598",
     "timestamp": 1659977674619
    }
   ]
  },
  "kernelspec": {
   "display_name": "Python 3",
   "language": "python",
   "name": "python3"
  },
  "language_info": {
   "codemirror_mode": {
    "name": "ipython",
    "version": 3
   },
   "file_extension": ".py",
   "mimetype": "text/x-python",
   "name": "python",
   "nbconvert_exporter": "python",
   "pygments_lexer": "ipython3",
   "version": "3.12.8"
  }
 },
 "nbformat": 4,
 "nbformat_minor": 1
}
